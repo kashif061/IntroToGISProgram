{
 "cells": [
  {
   "cell_type": "markdown",
   "id": "2784e05c-ccbf-4902-821f-3a8a9707f2a3",
   "metadata": {},
   "source": [
    "*Write a program that asks the user to enter two numbers and divide them. Use a try-except block to catch any ZeroDivisionError that may occur.*"
   ]
  },
  {
   "cell_type": "code",
   "execution_count": 1,
   "id": "ba86b916-d333-4b9a-b269-09f587e53c42",
   "metadata": {},
   "outputs": [],
   "source": [
    "def div (a, b):\n",
    "    try:\n",
    "        a/ b\n",
    "    except ZeroDivisionError:\n",
    "        print (\"Error: Division by zero\")"
   ]
  },
  {
   "cell_type": "code",
   "execution_count": 2,
   "id": "92741a3c-05e7-4ba0-a3a1-c22f2378adb8",
   "metadata": {},
   "outputs": [],
   "source": [
    "div (10, 4)"
   ]
  },
  {
   "cell_type": "code",
   "execution_count": 3,
   "id": "ce8307b4-73fd-4646-b488-b297493a9fd1",
   "metadata": {},
   "outputs": [
    {
     "name": "stdout",
     "output_type": "stream",
     "text": [
      "Error: Division by zero\n"
     ]
    }
   ],
   "source": [
    "div (10, 0)"
   ]
  },
  {
   "cell_type": "code",
   "execution_count": 8,
   "id": "7487aac7-f8be-4d9c-bec4-38f73acee97c",
   "metadata": {},
   "outputs": [
    {
     "name": "stdout",
     "output_type": "stream",
     "text": [
      "﻿agency_id,agency_name,agency_url,agency_timezone,agency_lang,agency_phone,agency_fare_url\n",
      "2,רכבת ישראל,http://www.rail.co.il,Asia/Jerusalem,he,5770,\n",
      "3,אגד,http://www.egged.co.il,Asia/Jerusalem,he,2800,\n",
      "4,אלקטרה אפיקים תחבורה,http://www.egged-taavura.co.il,Asia/Jerusalem,he,8787,\n",
      "5,דן,http://www.dan.co.il,Asia/Jerusalem,he,3456,\n",
      "6,ש.א.מ,http://www.nazareth-unbs.com,Asia/Jerusalem,he,8787,\n",
      "7,נסיעות ותיירות,http://www.ntt-buses.com,Asia/Jerusalem,he,8787,\n",
      "8,גי.בי.טורס,http://www.gb-tours.com,Asia/Jerusalem,he,046036100,\n",
      "10,מועצה אזורית אילות,https://www.eilot.org.il/bus/,Asia/Jerusalem,he,054-7880000,\n",
      "14,נתיב אקספרס,http://www.nateevexpress.com,Asia/Jerusalem,he,3553,\n",
      "15,מטרופולין,http://www.metropoline.com,Asia/Jerusalem,he,5900,\n",
      "16,סופרבוס,http://www.superbus.co.il,Asia/Jerusalem,he,1-700-700-181,\n",
      "18,קווים,http://www.kavim-t.co.il,Asia/Jerusalem,he,2060,\n",
      "20,כרמלית,http://www.carmelithaifa.co.il,Asia/Jerusalem,he,8787,\n",
      "21,כפיר,https://www.cfir.co.il/,Asia/Jerusalem,he,8787,\n",
      "22,תבל,http://www.callkav.gov.il/,Asia/Jerusalem,he,8787,\n",
      "23,גלים,http://www.galeem.co.il/,Asia/Jerusalem,he,0737968430,\n",
      "24,מועצה אזורית גולן,https://www.golan.org.il/,Asia/Jerusalem,he,8787,\n",
      "25,אלקטרה אפיקים,https://www.electra-afikim.co.il/,Asia/Jerusalem,he,8787,\n",
      "31,דן בדרום,http://www.danbadarom.co.il/,Asia/Jerusalem,he,8787,\n",
      "32,דן באר שבע,http://www.danbr7.co.il/,Asia/Jerusalem,he,8787,\n",
      "33,כבל אקספרס,https://cableexpress.co,Asia/Jerusalem,he,8787,\n",
      "34,תנופה,https://www.tnufa-t.com/,Asia/Jerusalem,he,8787,\n",
      "35,בית שמש אקספרס,http://www.bs-exp.co.il/,Asia/Jerusalem,he,3343,\n",
      "37,אקסטרה,https://extrapt.co.il/,Asia/Jerusalem,he,6747,\n",
      "38,אקסטרה ירושלים,https://extrapt.co.il/,Asia/Jerusalem,he,6747,\n",
      "42,ירושלים-רמאללה איחוד,http://www.ramallahbus.com/ar,Asia/Jerusalem,he,02-6274334,\n",
      "44,ירושלים-אבו-תור-ענאתא איחוד,http://www.atabuses.com/ar,Asia/Jerusalem,he,8787,\n",
      "45,ירושלים-אלווסט איחוד,http://www.centerbuses.com/ar,Asia/Jerusalem,he,8787,\n",
      "47,ירושלים-הר הזיתים,http://mountofolivesbus.com/?lang=ar,Asia/Jerusalem,he,8787,\n",
      "49,ירושלים - עיסאוויה מחנה שעפאט איחוד,http://www.shufatbus.com,Asia/Jerusalem,he,8787,\n",
      "50,ירושלים-דרום איחוד,http://www.south-buses.com,Asia/Jerusalem,he,8787,\n",
      "51,ירושלים-צור באהר איחוד,http://www.surbaherbus.com,Asia/Jerusalem,he,8787,\n",
      "91,מוניות מטרו קו,http://www.metrokav.com,Asia/Jerusalem,he,0737801500,\n",
      "93,מוניות מאיה יצחק שדה,http://www.bus.gov.il,Asia/Jerusalem,he,089211110,\n",
      "97,אודליה מוניות בעמ,http://www.bus.gov.il,Asia/Jerusalem,he,8787,\n",
      "98,מוניות רב קווית 4-5,https://isrssl.isrcorp.co.il:8093/taxi_45,Asia/Jerusalem,he,8787,\n",
      "\n"
     ]
    }
   ],
   "source": [
    "file = open ('/Users/shazia_manuawar/Documents/data/gtfs/agency.txt', 'r')\n",
    "contents = file.read()\n",
    "file.close()\n",
    "print (contents)"
   ]
  },
  {
   "cell_type": "code",
   "execution_count": 9,
   "id": "c718a9e6-8028-4a27-801b-77314e15ab1e",
   "metadata": {},
   "outputs": [
    {
     "name": "stdout",
     "output_type": "stream",
     "text": [
      "﻿fare_id,price,currency_type,payment_method,transfers,agency_id,transfer_duration\n",
      "201,5.50,ILS,0,0,,\n",
      "202,12.00,ILS,0,0,,\n",
      "204,16.00,ILS,0,0,,\n",
      "205,27.00,ILS,0,0,,\n",
      "206,80.10,ILS,0,0,,\n",
      "211,9.00,ILS,0,0,,\n",
      "212,18.00,ILS,0,0,,\n",
      "213,24.00,ILS,0,0,,\n",
      "214,27.00,ILS,0,0,,\n",
      "215,48.00,ILS,0,0,,\n",
      "221,4.70,ILS,0,0,,\n",
      "222,10.26,ILS,0,0,,\n",
      "224,13.68,ILS,0,0,,\n",
      "225,23.08,ILS,0,0,,\n",
      "226,68.50,ILS,0,0,,\n",
      "\n"
     ]
    }
   ],
   "source": [
    "with open ('/Users/shazia_manuawar/Documents/data/gtfs/fare_attributes.txt', 'r') as file:\n",
    "    content = file.read()\n",
    "print (content)"
   ]
  },
  {
   "cell_type": "code",
   "execution_count": 10,
   "id": "37757ece-5dc4-4ca4-9448-a1e5b71ed41d",
   "metadata": {},
   "outputs": [
    {
     "name": "stdout",
     "output_type": "stream",
     "text": [
      "﻿fare_id,price,currency_type,payment_method,transfers,agency_id,transfer_duration\n",
      "201,5.50,ILS,0,0,,\n",
      "202,12.00,ILS,0,0,,\n",
      "204,16.00,ILS,0,0,,\n",
      "205,27.00,ILS,0,0,,\n",
      "206,80.10,ILS,0,0,,\n",
      "211,9.00,ILS,0,0,,\n",
      "212,18.00,ILS,0,0,,\n",
      "213,24.00,ILS,0,0,,\n",
      "214,27.00,ILS,0,0,,\n",
      "215,48.00,ILS,0,0,,\n",
      "221,4.70,ILS,0,0,,\n",
      "222,10.26,ILS,0,0,,\n",
      "224,13.68,ILS,0,0,,\n",
      "225,23.08,ILS,0,0,,\n",
      "226,68.50,ILS,0,0,,\n"
     ]
    }
   ],
   "source": [
    "with open ('/Users/shazia_manuawar/Documents/data/gtfs/fare_attributes.txt', 'r') as file:\n",
    "    for line in file:\n",
    "        print (line.strip())"
   ]
  },
  {
   "cell_type": "markdown",
   "id": "95130651-79b6-4903-ab2a-481dad35a2b8",
   "metadata": {},
   "source": [
    "1. *Create a function that reads a file containing a list of city names and their coordinates. The function should handle exceptions if the file is missing or if a line in the file is not properly formatted.*"
   ]
  },
  {
   "cell_type": "code",
   "execution_count": 14,
   "id": "bd6c9dbb-4d28-45b9-a0d5-1a9d26ff0112",
   "metadata": {},
   "outputs": [],
   "source": [
    "def city_file (filename):\n",
    "    try:\n",
    "        with open (filename, 'r') as file:\n",
    "            for line in file:\n",
    "                print (line.strip())\n",
    "    except FileNotFoundError:\n",
    "        print (f\"File '{filename}' not found\")"
   ]
  },
  {
   "cell_type": "code",
   "execution_count": 15,
   "id": "7a497223-0415-4465-ac83-4e85d0d02145",
   "metadata": {},
   "outputs": [
    {
     "name": "stdout",
     "output_type": "stream",
     "text": [
      "﻿fare_id,price,currency_type,payment_method,transfers,agency_id,transfer_duration\n",
      "201,5.50,ILS,0,0,,\n",
      "202,12.00,ILS,0,0,,\n",
      "204,16.00,ILS,0,0,,\n",
      "205,27.00,ILS,0,0,,\n",
      "206,80.10,ILS,0,0,,\n",
      "211,9.00,ILS,0,0,,\n",
      "212,18.00,ILS,0,0,,\n",
      "213,24.00,ILS,0,0,,\n",
      "214,27.00,ILS,0,0,,\n",
      "215,48.00,ILS,0,0,,\n",
      "221,4.70,ILS,0,0,,\n",
      "222,10.26,ILS,0,0,,\n",
      "224,13.68,ILS,0,0,,\n",
      "225,23.08,ILS,0,0,,\n",
      "226,68.50,ILS,0,0,,\n"
     ]
    }
   ],
   "source": [
    "city_file ('/Users/shazia_manuawar/Documents/data/gtfs/fare_attributes.txt')"
   ]
  },
  {
   "cell_type": "code",
   "execution_count": 16,
   "id": "0a24ebfc-181b-4780-bad4-f2898afc63f7",
   "metadata": {},
   "outputs": [
    {
     "name": "stdout",
     "output_type": "stream",
     "text": [
      "File '/Users/shazia_manuawar/Documents/data/gtfs/kashif.txt' not found\n"
     ]
    }
   ],
   "source": [
    "city_file ('/Users/shazia_manuawar/Documents/data/gtfs/kashif.txt')"
   ]
  },
  {
   "cell_type": "markdown",
   "id": "75172bea-eed0-491c-be22-d35cf9367cd5",
   "metadata": {},
   "source": [
    "2. *Write a function that writes a list of coordinates to a file. Include exception handling to ensure that the file is properly closed even if an error occurs during writing.*"
   ]
  },
  {
   "cell_type": "code",
   "execution_count": null,
   "id": "6546c8ee-6ffa-41e4-a659-5c6272ec4178",
   "metadata": {},
   "outputs": [],
   "source": []
  }
 ],
 "metadata": {
  "kernelspec": {
   "display_name": "Python 3 (ipykernel)",
   "language": "python",
   "name": "python3"
  },
  "language_info": {
   "codemirror_mode": {
    "name": "ipython",
    "version": 3
   },
   "file_extension": ".py",
   "mimetype": "text/x-python",
   "name": "python",
   "nbconvert_exporter": "python",
   "pygments_lexer": "ipython3",
   "version": "3.11.13"
  }
 },
 "nbformat": 4,
 "nbformat_minor": 5
}
