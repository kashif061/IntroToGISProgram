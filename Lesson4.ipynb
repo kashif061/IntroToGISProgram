{
 "cells": [
  {
   "cell_type": "markdown",
   "id": "f19383ba-a366-4693-bbac-dc610df0aa0e",
   "metadata": {},
   "source": [
    "## Ex 4.7"
   ]
  },
  {
   "cell_type": "markdown",
   "id": "2755b306-9d6b-44e0-bc43-f2970a6e880a",
   "metadata": {},
   "source": [
    "1. *Create a string representing the name of a city. Convert the string to lowercase and then to uppercase.*"
   ]
  },
  {
   "cell_type": "code",
   "execution_count": 1,
   "id": "bcfa5215-c884-4155-b63b-ba3f011cf877",
   "metadata": {},
   "outputs": [],
   "source": [
    "city = 'Darbhanga'"
   ]
  },
  {
   "cell_type": "code",
   "execution_count": 4,
   "id": "4d729bd7-42fb-4cf5-89ad-4b46501d2f25",
   "metadata": {},
   "outputs": [
    {
     "data": {
      "text/plain": [
       "'darbhanga'"
      ]
     },
     "execution_count": 4,
     "metadata": {},
     "output_type": "execute_result"
    }
   ],
   "source": [
    "city.lower()"
   ]
  },
  {
   "cell_type": "code",
   "execution_count": 5,
   "id": "1e14965a-ce3c-4e21-89e4-6320a051959a",
   "metadata": {},
   "outputs": [
    {
     "data": {
      "text/plain": [
       "'DARBHANGA'"
      ]
     },
     "execution_count": 5,
     "metadata": {},
     "output_type": "execute_result"
    }
   ],
   "source": [
    "city.upper()"
   ]
  },
  {
   "cell_type": "markdown",
   "id": "f2de4d1d-aff9-453b-b09d-31df0710bb31",
   "metadata": {},
   "source": [
    "2. *Take a string with the format ‘latitude, longitude’ (e.g., ‘40.7128N, 74.0060W’) and extract the numeric values of latitude and longitude.*"
   ]
  },
  {
   "cell_type": "code",
   "execution_count": 6,
   "id": "cc4ba35e-5e43-43fc-91ba-7a98f949272d",
   "metadata": {},
   "outputs": [],
   "source": [
    "coord = '40.7128N, 74.0060W'"
   ]
  },
  {
   "cell_type": "code",
   "execution_count": 7,
   "id": "307c8ba8-98f3-41dc-b5ec-617e58282074",
   "metadata": {},
   "outputs": [],
   "source": [
    "lat_str, lon_str = coord.split (\", \")"
   ]
  },
  {
   "cell_type": "code",
   "execution_count": 9,
   "id": "d6266a18-5a80-4123-836f-1f52d1138279",
   "metadata": {},
   "outputs": [
    {
     "name": "stdout",
     "output_type": "stream",
     "text": [
      "Parsed coordinates: 40.7128, 74.006\n"
     ]
    }
   ],
   "source": [
    "latitude = float (lat_str [:-1])\n",
    "longitude = float (lon_str [:-1])\n",
    "print (f\"Parsed coordinates: {latitude}, {longitude}\")"
   ]
  },
  {
   "cell_type": "markdown",
   "id": "0a8778c2-e719-418e-824d-b93a08056c69",
   "metadata": {},
   "source": [
    "5. *Given a list of addresses in the format “Street, City, Country”, write a function to parse and return a dictionary with keys `street`, `city`, and `country`.*"
   ]
  },
  {
   "cell_type": "code",
   "execution_count": 10,
   "id": "6f9864ba-e8f8-483a-bd09-9fda1b0761fa",
   "metadata": {},
   "outputs": [],
   "source": [
    "address = '1 water st, nyc, usa'"
   ]
  },
  {
   "cell_type": "code",
   "execution_count": 11,
   "id": "f2388895-ffd5-4643-bd1c-a730e2172ede",
   "metadata": {},
   "outputs": [],
   "source": [
    "st, city, country = address.split (\", \")"
   ]
  },
  {
   "cell_type": "code",
   "execution_count": 12,
   "id": "cc2ff79e-e738-4040-b87a-a16c3d346a7a",
   "metadata": {},
   "outputs": [],
   "source": [
    "add = {'street': st, 'city': city, 'country': country}"
   ]
  },
  {
   "cell_type": "code",
   "execution_count": 13,
   "id": "843e4176-066a-4bf5-a3bc-2f29f76298ad",
   "metadata": {},
   "outputs": [
    {
     "data": {
      "text/plain": [
       "{'street': '1 water st', 'city': 'nyc', 'country': 'usa'}"
      ]
     },
     "execution_count": 13,
     "metadata": {},
     "output_type": "execute_result"
    }
   ],
   "source": [
    "add"
   ]
  },
  {
   "cell_type": "markdown",
   "id": "24fc6f38-3630-40d2-bda0-1e29fd268d9d",
   "metadata": {},
   "source": [
    "5. *Write a function that converts a pair of latitude and longitude coordinates into a WKT `POINT` string.*"
   ]
  },
  {
   "cell_type": "code",
   "execution_count": 23,
   "id": "ec546b8c-9f1b-4847-bed3-e977ccf4fe6f",
   "metadata": {},
   "outputs": [],
   "source": [
    "wkt_coord = f\"POINT ({longitude}, {latitude})\""
   ]
  },
  {
   "cell_type": "code",
   "execution_count": 25,
   "id": "b8592d45-6c15-4d63-94ab-bd3819adc780",
   "metadata": {},
   "outputs": [
    {
     "name": "stdout",
     "output_type": "stream",
     "text": [
      "POINT (74.006, 40.7128)\n"
     ]
    }
   ],
   "source": [
    "print (wkt_coord)"
   ]
  },
  {
   "cell_type": "code",
   "execution_count": null,
   "id": "d0d5ce38-fcd6-420f-81ae-766f995f1f19",
   "metadata": {},
   "outputs": [],
   "source": []
  }
 ],
 "metadata": {
  "kernelspec": {
   "display_name": "Python 3 (ipykernel)",
   "language": "python",
   "name": "python3"
  },
  "language_info": {
   "codemirror_mode": {
    "name": "ipython",
    "version": 3
   },
   "file_extension": ".py",
   "mimetype": "text/x-python",
   "name": "python",
   "nbconvert_exporter": "python",
   "pygments_lexer": "ipython3",
   "version": "3.11.13"
  }
 },
 "nbformat": 4,
 "nbformat_minor": 5
}
