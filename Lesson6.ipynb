{
 "cells": [
  {
   "cell_type": "markdown",
   "id": "4b4acbf1-4e0e-499e-bee6-fd535b2a6170",
   "metadata": {},
   "source": [
    "## Ex 6.6"
   ]
  },
  {
   "cell_type": "markdown",
   "id": "40db4396-4623-43f6-9dd2-3a577279931a",
   "metadata": {},
   "source": [
    "1. *Write a function called `convert_distance` that converts distances from kilometers to miles and vice versa. The function should accept two parameters: `distance` and `unit`, where `unit` has a default value of `\"km\"`. If the unit is `\"km\"`, it should convert the distance to miles, and if the unit is `\"miles\"`, it should convert the distance to kilometers.*"
   ]
  },
  {
   "cell_type": "code",
   "execution_count": 6,
   "id": "c21f7a34-a84c-48d8-911b-66c4f5c03422",
   "metadata": {},
   "outputs": [],
   "source": [
    "def convert_dist (dist, unit = 'km'):\n",
    "    if unit =='km':\n",
    "        converted = dist* 0.62137\n",
    "        return f\"{round (converted, 2)} miles\"\n",
    "    elif unit == 'miles':\n",
    "        converted = dist/ 0.62137\n",
    "        return f\"{round (converted,2)} km\"\n",
    "    else:\n",
    "        raise ValueError (\"Unit must be km or miles\")\n",
    "    "
   ]
  },
  {
   "cell_type": "code",
   "execution_count": 7,
   "id": "6e3bac50-1212-40ce-94cf-8a4e8ec4f813",
   "metadata": {},
   "outputs": [
    {
     "name": "stdout",
     "output_type": "stream",
     "text": [
      "6.21 miles\n"
     ]
    }
   ],
   "source": [
    "print (convert_dist (10))"
   ]
  },
  {
   "cell_type": "code",
   "execution_count": 10,
   "id": "7f7888e0-a30f-4a1c-a1bd-ef4d83f55a69",
   "metadata": {},
   "outputs": [
    {
     "name": "stdout",
     "output_type": "stream",
     "text": [
      "6.21 miles\n"
     ]
    }
   ],
   "source": [
    "print (convert_dist (10, 'km'))"
   ]
  },
  {
   "cell_type": "code",
   "execution_count": 9,
   "id": "91c913e4-0717-4e9f-8151-495f59cc6b1d",
   "metadata": {},
   "outputs": [
    {
     "name": "stdout",
     "output_type": "stream",
     "text": [
      "16.09 km\n"
     ]
    }
   ],
   "source": [
    "print (convert_dist (10, 'miles'))"
   ]
  },
  {
   "cell_type": "code",
   "execution_count": 11,
   "id": "8341f049-f301-4755-90be-7e17db35df65",
   "metadata": {},
   "outputs": [
    {
     "ename": "ValueError",
     "evalue": "Unit must be km or miles",
     "output_type": "error",
     "traceback": [
      "\u001b[31m---------------------------------------------------------------------------\u001b[39m",
      "\u001b[31mValueError\u001b[39m                                Traceback (most recent call last)",
      "\u001b[36mCell\u001b[39m\u001b[36m \u001b[39m\u001b[32mIn[11]\u001b[39m\u001b[32m, line 1\u001b[39m\n\u001b[32m----> \u001b[39m\u001b[32m1\u001b[39m \u001b[38;5;28mprint\u001b[39m (\u001b[43mconvert_dist\u001b[49m\u001b[43m \u001b[49m\u001b[43m(\u001b[49m\u001b[32;43m10\u001b[39;49m\u001b[43m,\u001b[49m\u001b[43m \u001b[49m\u001b[33;43m'\u001b[39;49m\u001b[33;43myard\u001b[39;49m\u001b[33;43m'\u001b[39;49m\u001b[43m)\u001b[49m)\n",
      "\u001b[36mCell\u001b[39m\u001b[36m \u001b[39m\u001b[32mIn[6]\u001b[39m\u001b[32m, line 9\u001b[39m, in \u001b[36mconvert_dist\u001b[39m\u001b[34m(dist, unit)\u001b[39m\n\u001b[32m      7\u001b[39m     \u001b[38;5;28;01mreturn\u001b[39;00m \u001b[33mf\u001b[39m\u001b[33m\"\u001b[39m\u001b[38;5;132;01m{\u001b[39;00m\u001b[38;5;28mround\u001b[39m\u001b[38;5;250m \u001b[39m(converted,\u001b[32m2\u001b[39m)\u001b[38;5;132;01m}\u001b[39;00m\u001b[33m km\u001b[39m\u001b[33m\"\u001b[39m\n\u001b[32m      8\u001b[39m \u001b[38;5;28;01melse\u001b[39;00m:\n\u001b[32m----> \u001b[39m\u001b[32m9\u001b[39m     \u001b[38;5;28;01mraise\u001b[39;00m \u001b[38;5;167;01mValueError\u001b[39;00m (\u001b[33m\"\u001b[39m\u001b[33mUnit must be km or miles\u001b[39m\u001b[33m\"\u001b[39m)\n",
      "\u001b[31mValueError\u001b[39m: Unit must be km or miles"
     ]
    }
   ],
   "source": [
    "print (convert_dist (10, 'yard'))"
   ]
  },
  {
   "cell_type": "markdown",
   "id": "55786397-1613-4de8-958f-51324927d2d6",
   "metadata": {},
   "source": [
    "2. *Write a function called `sum_coordinates` that accepts a variable number of coordinate pairs (tuples) as input. The function should return the sum of all the latitude and longitude values provided.*"
   ]
  },
  {
   "cell_type": "code",
   "execution_count": 12,
   "id": "bbe66046-2c19-47b5-8628-97875c9a41c0",
   "metadata": {},
   "outputs": [],
   "source": [
    "def sum_coord (*coords):\n",
    "    sum_lat = 0\n",
    "    sum_lon = 0\n",
    "    for lat, lon in coords:\n",
    "        sum_lat += lat\n",
    "        sum_lon += lon\n",
    "    return (sum_lat, sum_lon)\n",
    "        "
   ]
  },
  {
   "cell_type": "code",
   "execution_count": 13,
   "id": "9bcbf743-cb1d-4b9f-858e-467b56adf219",
   "metadata": {},
   "outputs": [
    {
     "data": {
      "text/plain": [
       "(43.77239319350013, 236.8200902414416)"
      ]
     },
     "execution_count": 13,
     "metadata": {},
     "output_type": "execute_result"
    }
   ],
   "source": [
    "sum_coord ((26.131049726487344, 85.8964631550499),\n",
    "         (51.484584429827656, -0.12225667217213679), \n",
    "         (-33.84324096281487, 151.04588375856383))"
   ]
  },
  {
   "cell_type": "code",
   "execution_count": null,
   "id": "2d6b76a5-37e0-40c1-aaa1-2327c85abb48",
   "metadata": {},
   "outputs": [],
   "source": []
  }
 ],
 "metadata": {
  "kernelspec": {
   "display_name": "Python 3 (ipykernel)",
   "language": "python",
   "name": "python3"
  },
  "language_info": {
   "codemirror_mode": {
    "name": "ipython",
    "version": 3
   },
   "file_extension": ".py",
   "mimetype": "text/x-python",
   "name": "python",
   "nbconvert_exporter": "python",
   "pygments_lexer": "ipython3",
   "version": "3.11.13"
  }
 },
 "nbformat": 4,
 "nbformat_minor": 5
}
