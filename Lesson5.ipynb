{
 "cells": [
  {
   "cell_type": "markdown",
   "id": "8f8b95e8-e22f-4a7b-9929-6ad8afde1101",
   "metadata": {},
   "source": [
    "## Ex 5.7"
   ]
  },
  {
   "cell_type": "markdown",
   "id": "e65de8f1-c820-49fc-852a-a4c299902bf3",
   "metadata": {},
   "source": [
    "1. *Create a list of cities with their coordinates. Write a for loop to print out only the cities that are in the Northern Hemisphere.*"
   ]
  },
  {
   "cell_type": "code",
   "execution_count": 2,
   "id": "0ec3d33d-6cf1-4616-8016-b445f75cdbe8",
   "metadata": {},
   "outputs": [],
   "source": [
    "cities = [('Dbg',26.131049726487344, 85.8964631550499), \n",
    "          ('London', 51.484584429827656, -0.12225667217213679), \n",
    "          ('Sydney', -33.84324096281487, 151.04588375856383)]"
   ]
  },
  {
   "cell_type": "code",
   "execution_count": 4,
   "id": "3b4a99ef-c2cb-46ac-8356-69aa47f338ba",
   "metadata": {},
   "outputs": [
    {
     "name": "stdout",
     "output_type": "stream",
     "text": [
      "Cities in the N Hemisphere\n",
      "-Dbg\n",
      "-London\n"
     ]
    }
   ],
   "source": [
    "print (\"Cities in the N Hemisphere\")\n",
    "for i in cities:\n",
    "    city, lat, long = i\n",
    "    if lat > 0:\n",
    "        print (f\"-{city}\")"
   ]
  },
  {
   "cell_type": "markdown",
   "id": "d9650d65-3827-42bf-87cf-fb5ce20ffd23",
   "metadata": {},
   "source": [
    "2. *Write a while loop that continues to print the coordinates in a list until a coordinate with a latitude less than 0 is found.*"
   ]
  },
  {
   "cell_type": "code",
   "execution_count": 5,
   "id": "eefe228e-f7c8-473a-8e40-c4ea507f9efd",
   "metadata": {},
   "outputs": [],
   "source": [
    "coord = [(26.131049726487344, 85.8964631550499),\n",
    "         (51.484584429827656, -0.12225667217213679), \n",
    "         (-33.84324096281487, 151.04588375856383)]"
   ]
  },
  {
   "cell_type": "code",
   "execution_count": 9,
   "id": "6d36372d-9ebe-4fba-b5d7-c6f5801b6dfe",
   "metadata": {},
   "outputs": [
    {
     "name": "stdout",
     "output_type": "stream",
     "text": [
      "Coordinate 1: (Latitude: 26.131049726487344, Longitude: 85.8964631550499)\n",
      "Coordinate 2: (Latitude: 51.484584429827656, Longitude: -0.12225667217213679)\n"
     ]
    }
   ],
   "source": [
    "# intitialize index\n",
    "i = 0\n",
    "while i < len (coord):\n",
    "    lat ,lon = coord [i]\n",
    "    if lat < 0:\n",
    "        break\n",
    "\n",
    "    print (f\"Coordinate {i + 1}: (Latitude: {lat}, Longitude: {lon})\")\n",
    "    i += 1"
   ]
  },
  {
   "cell_type": "markdown",
   "id": "44245c90-e4c8-4ff2-8c7b-386dbeabc464",
   "metadata": {},
   "source": [
    "3. *Create a for loop that iterates through a list of coordinates and prints whether each coordinate is in the Eastern or Western Hemisphere based on the longitude.*"
   ]
  },
  {
   "cell_type": "code",
   "execution_count": 11,
   "id": "b109a7a5-5d6e-4525-93bf-9b5d6d34c5e6",
   "metadata": {},
   "outputs": [
    {
     "name": "stdout",
     "output_type": "stream",
     "text": [
      "The coordinate (26.131049726487344, 85.8964631550499) is in the Eastern Hemsisphere\n",
      "The coordinate (51.484584429827656, -0.12225667217213679) is in the Western Hemsiphere\n",
      "The coordinate (-33.84324096281487, 151.04588375856383) is in the Eastern Hemsisphere\n"
     ]
    }
   ],
   "source": [
    "for i in coord:\n",
    "    lat, lon = i\n",
    "    if lon > 0:\n",
    "        hemisphere = 'Eastern Hemsisphere'\n",
    "    else:\n",
    "        hemisphere = 'Western Hemsiphere'\n",
    "    print (f\"The coordinate ({lat}, {lon}) is in the {hemisphere}\")\n"
   ]
  },
  {
   "cell_type": "markdown",
   "id": "097760da-f97b-476f-87d3-240ca48ee126",
   "metadata": {},
   "source": [
    "4. *Combine a for loop and if statements to count how many coordinates in a list are located in the Southern Hemisphere.*"
   ]
  },
  {
   "cell_type": "code",
   "execution_count": 18,
   "id": "c2c196eb-3726-4ab4-b581-c01e96ec1e9a",
   "metadata": {},
   "outputs": [
    {
     "name": "stdout",
     "output_type": "stream",
     "text": [
      "The count of coords in S hemisphere is 1\n"
     ]
    }
   ],
   "source": [
    "count = 0\n",
    "for j in coord:\n",
    "    lat, lon = j\n",
    "    if lat < 0:\n",
    "        count += 1\n",
    "print (f\"The count of coords in S hemisphere is {count}\")"
   ]
  },
  {
   "cell_type": "markdown",
   "id": "709b784a-2bc7-4331-a2ad-61c405953e2c",
   "metadata": {},
   "source": [
    "5. *Write a program that generates random coordinates (latitude and longitude) and prints them until a coordinate with both latitude and longitude greater than 50 is generated.*"
   ]
  },
  {
   "cell_type": "code",
   "execution_count": null,
   "id": "b9c8ef68-e5ec-4e55-abbf-e9177b143802",
   "metadata": {},
   "outputs": [],
   "source": []
  }
 ],
 "metadata": {
  "kernelspec": {
   "display_name": "Python 3 (ipykernel)",
   "language": "python",
   "name": "python3"
  },
  "language_info": {
   "codemirror_mode": {
    "name": "ipython",
    "version": 3
   },
   "file_extension": ".py",
   "mimetype": "text/x-python",
   "name": "python",
   "nbconvert_exporter": "python",
   "pygments_lexer": "ipython3",
   "version": "3.11.13"
  }
 },
 "nbformat": 4,
 "nbformat_minor": 5
}
