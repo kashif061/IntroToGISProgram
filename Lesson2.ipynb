{
 "cells": [
  {
   "cell_type": "markdown",
   "id": "a43a40da-1a6a-466f-b714-36f0cb2c9141",
   "metadata": {},
   "source": [
    "## Ex 2"
   ]
  },
  {
   "cell_type": "markdown",
   "id": "92d35d28-75a5-4a27-b316-3be0382e590a",
   "metadata": {},
   "source": [
    "1. *Create a list of tuples, each representing the coordinates (latitude, longitude) of different cities you have visited.*"
   ]
  },
  {
   "cell_type": "code",
   "execution_count": 2,
   "id": "8450f69e-e306-4b71-b15e-7794d57609ed",
   "metadata": {},
   "outputs": [],
   "source": [
    "coord = [(26.142442473360468, 85.90800617500516), (27.907588005640445, 78.07031166146874), (22.994193767838112, 72.49701394988672)]"
   ]
  },
  {
   "cell_type": "markdown",
   "id": "4ae0a830-239b-4459-9e45-057e5bde593a",
   "metadata": {},
   "source": [
    "2. *Calculate the centroid of these coordinates.*"
   ]
  },
  {
   "cell_type": "code",
   "execution_count": 5,
   "id": "03a15042-142c-43e8-8592-168d009c1ede",
   "metadata": {},
   "outputs": [],
   "source": [
    "centroid_lat = sum (i [0] for i in coord)/ len (coord)\n",
    "centroid_long = sum (i [0] for i in coord)/ len (coord)"
   ]
  },
  {
   "cell_type": "markdown",
   "id": "9f1430ff-a4f3-4d81-a473-729cd8d820a9",
   "metadata": {},
   "source": [
    "3. *Create a dictionary to store the centroid’s latitude and longitude.*"
   ]
  },
  {
   "cell_type": "code",
   "execution_count": 10,
   "id": "2bb515cf-9f44-4056-badc-786ee42efa4d",
   "metadata": {},
   "outputs": [],
   "source": [
    "centroid = {'latitude': centroid_lat, 'longitude': centroid_long}"
   ]
  }
 ],
 "metadata": {
  "kernelspec": {
   "display_name": "Python 3 (ipykernel)",
   "language": "python",
   "name": "python3"
  },
  "language_info": {
   "codemirror_mode": {
    "name": "ipython",
    "version": 3
   },
   "file_extension": ".py",
   "mimetype": "text/x-python",
   "name": "python",
   "nbconvert_exporter": "python",
   "pygments_lexer": "ipython3",
   "version": "3.11.13"
  }
 },
 "nbformat": 4,
 "nbformat_minor": 5
}
