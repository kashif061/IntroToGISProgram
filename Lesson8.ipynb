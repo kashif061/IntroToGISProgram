{
 "cells": [
  {
   "cell_type": "markdown",
   "id": "1ae5a6f8-6eb4-448c-8bcc-ddbd57d1ba8d",
   "metadata": {},
   "source": [
    "## Ex 8.6"
   ]
  },
  {
   "cell_type": "markdown",
   "id": "06d241a2-6814-4880-8fc5-ecba03514219",
   "metadata": {},
   "source": [
    "1. *Array Operations: Create a `NumPy` array representing the elevations of various locations. Normalize the elevations (e.g., subtract the mean and divide by the standard deviation) and calculate the mean and standard deviation of the normalized array.*"
   ]
  },
  {
   "cell_type": "code",
   "execution_count": 13,
   "id": "439f5c79-297b-4def-bd61-17f03ea29166",
   "metadata": {},
   "outputs": [],
   "source": [
    "#elevation of ladakh, lima, and bern in m\n",
    "list = [6332, 161, 555]"
   ]
  },
  {
   "cell_type": "code",
   "execution_count": 2,
   "id": "9ae6c887-21de-449f-b7d0-5aee3a1fe8b0",
   "metadata": {},
   "outputs": [],
   "source": [
    "import numpy as np"
   ]
  },
  {
   "cell_type": "code",
   "execution_count": 3,
   "id": "450caa1d-619f-486c-8712-435eb30cb807",
   "metadata": {},
   "outputs": [
    {
     "data": {
      "text/plain": [
       "array([6332,  161,  555])"
      ]
     },
     "execution_count": 3,
     "metadata": {},
     "output_type": "execute_result"
    }
   ],
   "source": [
    "elevation = np.array (list)\n",
    "elevation"
   ]
  },
  {
   "cell_type": "code",
   "execution_count": 8,
   "id": "e6aea5bc-4ac8-4d51-b8b5-3fe41e6c6f98",
   "metadata": {},
   "outputs": [],
   "source": [
    "normalized_height = (elevation - elevation.mean())/ elevation.std()"
   ]
  },
  {
   "cell_type": "code",
   "execution_count": 9,
   "id": "9166b2e5-4b62-4166-94c2-79dfa39e8f55",
   "metadata": {},
   "outputs": [
    {
     "data": {
      "text/plain": [
       "array([ 1.4119124 , -0.77579552, -0.63611688])"
      ]
     },
     "execution_count": 9,
     "metadata": {},
     "output_type": "execute_result"
    }
   ],
   "source": [
    "normalized_height"
   ]
  },
  {
   "cell_type": "code",
   "execution_count": 12,
   "id": "51b33d6c-b289-4b05-ae98-b563b453a18b",
   "metadata": {},
   "outputs": [
    {
     "name": "stdout",
     "output_type": "stream",
     "text": [
      "-3.700743415417188e-17\n",
      "1.0\n"
     ]
    }
   ],
   "source": [
    "print (normalized_height.mean())\n",
    "print (normalized_height.std())"
   ]
  },
  {
   "cell_type": "markdown",
   "id": "2221886c-6ae7-403f-946a-73291f3446e9",
   "metadata": {},
   "source": []
  }
 ],
 "metadata": {
  "kernelspec": {
   "display_name": "Python 3 (ipykernel)",
   "language": "python",
   "name": "python3"
  },
  "language_info": {
   "codemirror_mode": {
    "name": "ipython",
    "version": 3
   },
   "file_extension": ".py",
   "mimetype": "text/x-python",
   "name": "python",
   "nbconvert_exporter": "python",
   "pygments_lexer": "ipython3",
   "version": "3.11.13"
  }
 },
 "nbformat": 4,
 "nbformat_minor": 5
}
