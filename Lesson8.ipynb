{
 "cells": [
  {
   "cell_type": "markdown",
   "id": "1ae5a6f8-6eb4-448c-8bcc-ddbd57d1ba8d",
   "metadata": {},
   "source": [
    "## Ex 8.6"
   ]
  },
  {
   "cell_type": "markdown",
   "id": "06d241a2-6814-4880-8fc5-ecba03514219",
   "metadata": {},
   "source": [
    "1. *Array Operations: Create a `NumPy` array representing the elevations of various locations. Normalize the elevations (e.g., subtract the mean and divide by the standard deviation) and calculate the mean and standard deviation of the normalized array.*"
   ]
  },
  {
   "cell_type": "code",
   "execution_count": 13,
   "id": "439f5c79-297b-4def-bd61-17f03ea29166",
   "metadata": {},
   "outputs": [],
   "source": [
    "#elevation of ladakh, lima, and bern in m\n",
    "list = [6332, 161, 555]"
   ]
  },
  {
   "cell_type": "code",
   "execution_count": 2,
   "id": "9ae6c887-21de-449f-b7d0-5aee3a1fe8b0",
   "metadata": {},
   "outputs": [],
   "source": [
    "import numpy as np"
   ]
  },
  {
   "cell_type": "code",
   "execution_count": 3,
   "id": "450caa1d-619f-486c-8712-435eb30cb807",
   "metadata": {},
   "outputs": [
    {
     "data": {
      "text/plain": [
       "array([6332,  161,  555])"
      ]
     },
     "execution_count": 3,
     "metadata": {},
     "output_type": "execute_result"
    }
   ],
   "source": [
    "elevation = np.array (list)\n",
    "elevation"
   ]
  },
  {
   "cell_type": "code",
   "execution_count": 8,
   "id": "e6aea5bc-4ac8-4d51-b8b5-3fe41e6c6f98",
   "metadata": {},
   "outputs": [],
   "source": [
    "normalized_height = (elevation - elevation.mean())/ elevation.std()"
   ]
  },
  {
   "cell_type": "code",
   "execution_count": 9,
   "id": "9166b2e5-4b62-4166-94c2-79dfa39e8f55",
   "metadata": {},
   "outputs": [
    {
     "data": {
      "text/plain": [
       "array([ 1.4119124 , -0.77579552, -0.63611688])"
      ]
     },
     "execution_count": 9,
     "metadata": {},
     "output_type": "execute_result"
    }
   ],
   "source": [
    "normalized_height"
   ]
  },
  {
   "cell_type": "code",
   "execution_count": 12,
   "id": "51b33d6c-b289-4b05-ae98-b563b453a18b",
   "metadata": {},
   "outputs": [
    {
     "name": "stdout",
     "output_type": "stream",
     "text": [
      "-3.700743415417188e-17\n",
      "1.0\n"
     ]
    }
   ],
   "source": [
    "print (normalized_height.mean())\n",
    "print (normalized_height.std())"
   ]
  },
  {
   "cell_type": "markdown",
   "id": "2221886c-6ae7-403f-946a-73291f3446e9",
   "metadata": {},
   "source": [
    "*Note.* The mean of normalized data is zero (or very close to zero, due to potential rounding errors in computation). Normalization, especially when using Z-score or standardization, involves transforming data to have a mean of 0 and a standard deviation of 1. This ensures all features are on a similar scale, which is beneficial for many machine learning algorithms. "
   ]
  },
  {
   "cell_type": "code",
   "execution_count": 14,
   "id": "3885af83-556b-4b75-b785-316a36283b98",
   "metadata": {},
   "outputs": [],
   "source": [
    "import pandas as pd"
   ]
  },
  {
   "cell_type": "code",
   "execution_count": 15,
   "id": "072676be-ab2c-463b-9776-3cc2a284f5c2",
   "metadata": {},
   "outputs": [],
   "source": [
    "cities = pd.read_csv ('/Users/shazia_manuawar/Documents/cities.csv')"
   ]
  },
  {
   "cell_type": "code",
   "execution_count": 16,
   "id": "71a2e700-114f-4083-9d0a-1b5c8a6f514f",
   "metadata": {},
   "outputs": [
    {
     "data": {
      "text/html": [
       "<div>\n",
       "<style scoped>\n",
       "    .dataframe tbody tr th:only-of-type {\n",
       "        vertical-align: middle;\n",
       "    }\n",
       "\n",
       "    .dataframe tbody tr th {\n",
       "        vertical-align: top;\n",
       "    }\n",
       "\n",
       "    .dataframe thead th {\n",
       "        text-align: right;\n",
       "    }\n",
       "</style>\n",
       "<table border=\"1\" class=\"dataframe\">\n",
       "  <thead>\n",
       "    <tr style=\"text-align: right;\">\n",
       "      <th></th>\n",
       "      <th>Country</th>\n",
       "      <th>Capital City</th>\n",
       "      <th>Latitude</th>\n",
       "      <th>Longitude</th>\n",
       "      <th>Population</th>\n",
       "      <th>Capital Type</th>\n",
       "    </tr>\n",
       "  </thead>\n",
       "  <tbody>\n",
       "    <tr>\n",
       "      <th>0</th>\n",
       "      <td>Afghanistan</td>\n",
       "      <td>Kabul</td>\n",
       "      <td>34.5289</td>\n",
       "      <td>69.1725</td>\n",
       "      <td>4011770</td>\n",
       "      <td>Capital</td>\n",
       "    </tr>\n",
       "    <tr>\n",
       "      <th>1</th>\n",
       "      <td>Albania</td>\n",
       "      <td>Tiranë (Tirana)</td>\n",
       "      <td>41.3275</td>\n",
       "      <td>19.8189</td>\n",
       "      <td>475577</td>\n",
       "      <td>Capital</td>\n",
       "    </tr>\n",
       "    <tr>\n",
       "      <th>2</th>\n",
       "      <td>Algeria</td>\n",
       "      <td>El Djazaïr  (Algiers)</td>\n",
       "      <td>36.7525</td>\n",
       "      <td>3.0420</td>\n",
       "      <td>2693542</td>\n",
       "      <td>Capital</td>\n",
       "    </tr>\n",
       "    <tr>\n",
       "      <th>3</th>\n",
       "      <td>American Samoa</td>\n",
       "      <td>Pago Pago</td>\n",
       "      <td>-14.2781</td>\n",
       "      <td>-170.7025</td>\n",
       "      <td>48526</td>\n",
       "      <td>Capital</td>\n",
       "    </tr>\n",
       "    <tr>\n",
       "      <th>4</th>\n",
       "      <td>Andorra</td>\n",
       "      <td>Andorra la Vella</td>\n",
       "      <td>42.5078</td>\n",
       "      <td>1.5211</td>\n",
       "      <td>22614</td>\n",
       "      <td>Capital</td>\n",
       "    </tr>\n",
       "  </tbody>\n",
       "</table>\n",
       "</div>"
      ],
      "text/plain": [
       "          Country           Capital City  Latitude  Longitude  Population  \\\n",
       "0     Afghanistan                  Kabul   34.5289    69.1725     4011770   \n",
       "1         Albania        Tiranë (Tirana)   41.3275    19.8189      475577   \n",
       "2         Algeria  El Djazaïr  (Algiers)   36.7525     3.0420     2693542   \n",
       "3  American Samoa              Pago Pago  -14.2781  -170.7025       48526   \n",
       "4         Andorra       Andorra la Vella   42.5078     1.5211       22614   \n",
       "\n",
       "  Capital Type  \n",
       "0      Capital  \n",
       "1      Capital  \n",
       "2      Capital  \n",
       "3      Capital  \n",
       "4      Capital  "
      ]
     },
     "execution_count": 16,
     "metadata": {},
     "output_type": "execute_result"
    }
   ],
   "source": [
    "cities.head()"
   ]
  },
  {
   "cell_type": "code",
   "execution_count": 18,
   "id": "14377dd1-3244-4b1f-bf79-3808729e3d42",
   "metadata": {},
   "outputs": [],
   "source": [
    "cities_NHemisphere = cities [cities['Latitude'] > 0]"
   ]
  },
  {
   "cell_type": "code",
   "execution_count": 19,
   "id": "93d6a4dc-e4ae-4f50-a35c-23b66a6136c5",
   "metadata": {},
   "outputs": [
    {
     "data": {
      "text/plain": [
       "<bound method DataFrame.count of                        Country           Capital City  Latitude  Longitude  \\\n",
       "0                  Afghanistan                  Kabul   34.5289    69.1725   \n",
       "1                      Albania        Tiranë (Tirana)   41.3275    19.8189   \n",
       "2                      Algeria  El Djazaïr  (Algiers)   36.7525     3.0420   \n",
       "3               American Samoa              Pago Pago  -14.2781  -170.7025   \n",
       "4                      Andorra       Andorra la Vella   42.5078     1.5211   \n",
       "..                         ...                    ...       ...        ...   \n",
       "229  Wallis and Futuna Islands               Matu-Utu  -13.2816  -176.1745   \n",
       "230             Western Sahara               El Aaiún   27.1532   -13.2014   \n",
       "231                      Yemen                Sana'a'   15.3531    44.2078   \n",
       "232                     Zambia                 Lusaka  -15.4134    28.2771   \n",
       "233                   Zimbabwe                 Harare  -17.8294    31.0539   \n",
       "\n",
       "     Population Capital Type  \n",
       "0       4011770      Capital  \n",
       "1        475577      Capital  \n",
       "2       2693542      Capital  \n",
       "3         48526      Capital  \n",
       "4         22614      Capital  \n",
       "..          ...          ...  \n",
       "229        1025      Capital  \n",
       "230      232388      Capital  \n",
       "231     2779317      Capital  \n",
       "232     2523844      Capital  \n",
       "233     1515016      Capital  \n",
       "\n",
       "[234 rows x 6 columns]>"
      ]
     },
     "execution_count": 19,
     "metadata": {},
     "output_type": "execute_result"
    }
   ],
   "source": [
    "cities.count"
   ]
  },
  {
   "cell_type": "code",
   "execution_count": 20,
   "id": "e64e2c28-b1d8-4b21-ac18-906e36b0a170",
   "metadata": {},
   "outputs": [
    {
     "data": {
      "text/html": [
       "<div>\n",
       "<style scoped>\n",
       "    .dataframe tbody tr th:only-of-type {\n",
       "        vertical-align: middle;\n",
       "    }\n",
       "\n",
       "    .dataframe tbody tr th {\n",
       "        vertical-align: top;\n",
       "    }\n",
       "\n",
       "    .dataframe thead th {\n",
       "        text-align: right;\n",
       "    }\n",
       "</style>\n",
       "<table border=\"1\" class=\"dataframe\">\n",
       "  <thead>\n",
       "    <tr style=\"text-align: right;\">\n",
       "      <th></th>\n",
       "      <th>Country</th>\n",
       "      <th>Capital City</th>\n",
       "      <th>Latitude</th>\n",
       "      <th>Longitude</th>\n",
       "      <th>Population</th>\n",
       "      <th>Capital Type</th>\n",
       "    </tr>\n",
       "  </thead>\n",
       "  <tbody>\n",
       "    <tr>\n",
       "      <th>0</th>\n",
       "      <td>Afghanistan</td>\n",
       "      <td>Kabul</td>\n",
       "      <td>34.5289</td>\n",
       "      <td>69.1725</td>\n",
       "      <td>4011770</td>\n",
       "      <td>Capital</td>\n",
       "    </tr>\n",
       "    <tr>\n",
       "      <th>1</th>\n",
       "      <td>Albania</td>\n",
       "      <td>Tiranë (Tirana)</td>\n",
       "      <td>41.3275</td>\n",
       "      <td>19.8189</td>\n",
       "      <td>475577</td>\n",
       "      <td>Capital</td>\n",
       "    </tr>\n",
       "    <tr>\n",
       "      <th>2</th>\n",
       "      <td>Algeria</td>\n",
       "      <td>El Djazaïr  (Algiers)</td>\n",
       "      <td>36.7525</td>\n",
       "      <td>3.0420</td>\n",
       "      <td>2693542</td>\n",
       "      <td>Capital</td>\n",
       "    </tr>\n",
       "    <tr>\n",
       "      <th>4</th>\n",
       "      <td>Andorra</td>\n",
       "      <td>Andorra la Vella</td>\n",
       "      <td>42.5078</td>\n",
       "      <td>1.5211</td>\n",
       "      <td>22614</td>\n",
       "      <td>Capital</td>\n",
       "    </tr>\n",
       "    <tr>\n",
       "      <th>6</th>\n",
       "      <td>Anguilla</td>\n",
       "      <td>The Valley</td>\n",
       "      <td>18.2170</td>\n",
       "      <td>-63.0578</td>\n",
       "      <td>1402</td>\n",
       "      <td>Capital</td>\n",
       "    </tr>\n",
       "    <tr>\n",
       "      <th>...</th>\n",
       "      <td>...</td>\n",
       "      <td>...</td>\n",
       "      <td>...</td>\n",
       "      <td>...</td>\n",
       "      <td>...</td>\n",
       "      <td>...</td>\n",
       "    </tr>\n",
       "    <tr>\n",
       "      <th>225</th>\n",
       "      <td>Uzbekistan</td>\n",
       "      <td>Tashkent</td>\n",
       "      <td>41.2647</td>\n",
       "      <td>69.2163</td>\n",
       "      <td>2463969</td>\n",
       "      <td>Capital</td>\n",
       "    </tr>\n",
       "    <tr>\n",
       "      <th>227</th>\n",
       "      <td>Venezuela (Bolivarian Republic of)</td>\n",
       "      <td>Caracas</td>\n",
       "      <td>10.4880</td>\n",
       "      <td>-66.8792</td>\n",
       "      <td>2934560</td>\n",
       "      <td>Capital</td>\n",
       "    </tr>\n",
       "    <tr>\n",
       "      <th>228</th>\n",
       "      <td>Viet Nam</td>\n",
       "      <td>Hà Noi</td>\n",
       "      <td>21.0245</td>\n",
       "      <td>105.8412</td>\n",
       "      <td>4282738</td>\n",
       "      <td>Capital</td>\n",
       "    </tr>\n",
       "    <tr>\n",
       "      <th>230</th>\n",
       "      <td>Western Sahara</td>\n",
       "      <td>El Aaiún</td>\n",
       "      <td>27.1532</td>\n",
       "      <td>-13.2014</td>\n",
       "      <td>232388</td>\n",
       "      <td>Capital</td>\n",
       "    </tr>\n",
       "    <tr>\n",
       "      <th>231</th>\n",
       "      <td>Yemen</td>\n",
       "      <td>Sana'a'</td>\n",
       "      <td>15.3531</td>\n",
       "      <td>44.2078</td>\n",
       "      <td>2779317</td>\n",
       "      <td>Capital</td>\n",
       "    </tr>\n",
       "  </tbody>\n",
       "</table>\n",
       "<p>183 rows × 6 columns</p>\n",
       "</div>"
      ],
      "text/plain": [
       "                                Country           Capital City  Latitude  \\\n",
       "0                           Afghanistan                  Kabul   34.5289   \n",
       "1                               Albania        Tiranë (Tirana)   41.3275   \n",
       "2                               Algeria  El Djazaïr  (Algiers)   36.7525   \n",
       "4                               Andorra       Andorra la Vella   42.5078   \n",
       "6                              Anguilla             The Valley   18.2170   \n",
       "..                                  ...                    ...       ...   \n",
       "225                          Uzbekistan               Tashkent   41.2647   \n",
       "227  Venezuela (Bolivarian Republic of)                Caracas   10.4880   \n",
       "228                            Viet Nam                 Hà Noi   21.0245   \n",
       "230                      Western Sahara               El Aaiún   27.1532   \n",
       "231                               Yemen                Sana'a'   15.3531   \n",
       "\n",
       "     Longitude  Population Capital Type  \n",
       "0      69.1725     4011770      Capital  \n",
       "1      19.8189      475577      Capital  \n",
       "2       3.0420     2693542      Capital  \n",
       "4       1.5211       22614      Capital  \n",
       "6     -63.0578        1402      Capital  \n",
       "..         ...         ...          ...  \n",
       "225    69.2163     2463969      Capital  \n",
       "227   -66.8792     2934560      Capital  \n",
       "228   105.8412     4282738      Capital  \n",
       "230   -13.2014      232388      Capital  \n",
       "231    44.2078     2779317      Capital  \n",
       "\n",
       "[183 rows x 6 columns]"
      ]
     },
     "execution_count": 20,
     "metadata": {},
     "output_type": "execute_result"
    }
   ],
   "source": [
    "cities_NHemisphere"
   ]
  },
  {
   "cell_type": "code",
   "execution_count": null,
   "id": "d2a314e8-0a34-4a66-b6be-4f621e845fcd",
   "metadata": {},
   "outputs": [],
   "source": [
    "cities_NHemisphere ['Latitude"
   ]
  }
 ],
 "metadata": {
  "kernelspec": {
   "display_name": "Python 3 (ipykernel)",
   "language": "python",
   "name": "python3"
  },
  "language_info": {
   "codemirror_mode": {
    "name": "ipython",
    "version": 3
   },
   "file_extension": ".py",
   "mimetype": "text/x-python",
   "name": "python",
   "nbconvert_exporter": "python",
   "pygments_lexer": "ipython3",
   "version": "3.11.13"
  }
 },
 "nbformat": 4,
 "nbformat_minor": 5
}
