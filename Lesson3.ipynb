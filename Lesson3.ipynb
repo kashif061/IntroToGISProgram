{
 "cells": [
  {
   "cell_type": "markdown",
   "id": "c0f15132-7d5c-439d-b127-a93dd6324c2d",
   "metadata": {},
   "source": [
    "## Ex 3.7"
   ]
  },
  {
   "cell_type": "markdown",
   "id": "4c977165-2c39-4366-a614-581b66e7ff2e",
   "metadata": {},
   "source": [
    "*Create a dictionary to store attributes of a geographic feature (e.g., a river or mountain). Include keys for the name, length, and location of the feature. Then, add an additional attribute (e.g., the source of the river or the height of the mountain) and print the dictionary.*"
   ]
  },
  {
   "cell_type": "code",
   "execution_count": 1,
   "id": "66fb5fcd-fb91-41ed-afdb-6effefffa00f",
   "metadata": {},
   "outputs": [],
   "source": [
    "ganga = {'name': 'The Ganges', 'length': 2000}"
   ]
  },
  {
   "cell_type": "code",
   "execution_count": 2,
   "id": "16c377ed-2f8c-4d3a-ae83-bcc5535239a4",
   "metadata": {},
   "outputs": [],
   "source": [
    "ganga ['origin'] = 'Alakananda'"
   ]
  },
  {
   "cell_type": "code",
   "execution_count": 3,
   "id": "a050ef1b-412a-4e64-a7fb-92e5b58bbfdc",
   "metadata": {},
   "outputs": [
    {
     "data": {
      "text/plain": [
       "{'name': 'The Ganges', 'length': 2000, 'origin': 'Alakananda'}"
      ]
     },
     "execution_count": 3,
     "metadata": {},
     "output_type": "execute_result"
    }
   ],
   "source": [
    "ganga"
   ]
  }
 ],
 "metadata": {
  "kernelspec": {
   "display_name": "Python 3 (ipykernel)",
   "language": "python",
   "name": "python3"
  },
  "language_info": {
   "codemirror_mode": {
    "name": "ipython",
    "version": 3
   },
   "file_extension": ".py",
   "mimetype": "text/x-python",
   "name": "python",
   "nbconvert_exporter": "python",
   "pygments_lexer": "ipython3",
   "version": "3.11.13"
  }
 },
 "nbformat": 4,
 "nbformat_minor": 5
}
